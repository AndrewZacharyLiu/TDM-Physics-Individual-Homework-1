{
 "cells": [
  {
   "cell_type": "code",
   "execution_count": 14,
   "id": "712d2d05-c660-40f6-95e7-f4ca78d27430",
   "metadata": {},
   "outputs": [
    {
     "name": "stdout",
     "output_type": "stream",
     "text": [
      "hello world. Hi Amandeep, this is Andrew Liu!\n"
     ]
    }
   ],
   "source": [
    "print(\"hello world. Hi Amandeep, this is Andrew Liu!\")"
   ]
  },
  {
   "cell_type": "code",
   "execution_count": 13,
   "id": "0dde2ba2-c0d6-4efc-b9c0-3bbf255e5643",
   "metadata": {},
   "outputs": [
    {
     "data": {
      "image/png": "[encoded data removed]",
      "text/plain": [
       "<Figure size 432x288 with 1 Axes>"
      ]
     },
     "metadata": {
      "needs_background": "light"
     },
     "output_type": "display_data"
    }
   ],
   "source": [
    "#Resource used:https://matplotlib.org/stable/gallery/statistics/hist.html\n",
    "#https://stackoverflow.com/questions/33203645/how-to-plot-a-histogram-using-matplotlib-in-python-with-a-list-of-data\n",
    "import numpy as np\n",
    "import matplotlib.pyplot as plt\n",
    "\n",
    "#np.random.seed(#seed number)\n",
    "\n",
    "x = np.random.normal(size=1000)\n",
    "\n",
    "plt.hist(x, density=True, bins=30)  \n",
    "plt.ylabel('Probability')\n",
    "plt.xlabel('Data');\n"
   ]
  }
 ],
 "metadata": {
  "kernelspec": {
   "display_name": "f2022-s2023",
   "language": "python",
   "name": "f2022-s2023"
  },
  "language_info": {
   "codemirror_mode": {
    "name": "ipython",
    "version": 3
   },
   "file_extension": ".py",
   "mimetype": "text/x-python",
   "name": "python",
   "nbconvert_exporter": "python",
   "pygments_lexer": "ipython3",
   "version": "3.10.5"
  }
 },
 "nbformat": 4,
 "nbformat_minor": 5
}
